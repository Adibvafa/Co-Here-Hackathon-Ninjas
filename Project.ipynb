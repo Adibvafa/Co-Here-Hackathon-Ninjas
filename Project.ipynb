{
 "cells": [
  {
   "cell_type": "code",
   "execution_count": 80,
   "metadata": {
    "collapsed": true
   },
   "outputs": [],
   "source": [
    "import gzip\n",
    "import json\n",
    "import numpy as np\n",
    "import cohere\n",
    "from cohere.classify import Example\n",
    "co = cohere.Client('Odj4ClpHI3fobuB9bErJkfzlszJwQ018Z99gUAyE')"
   ]
  },
  {
   "cell_type": "code",
   "execution_count": 81,
   "outputs": [],
   "source": [
    "def read_gzip():\n",
    "    text = []\n",
    "    label = []\n",
    "    with gzip.open('train.jsonl.gz', 'r') as fin:\n",
    "        for line in fin:\n",
    "            data = json.loads(line.decode('utf-8'))\n",
    "            text.append(data[\"text\"])\n",
    "            label.append(data[\"label\"])\n",
    "    return text, label"
   ],
   "metadata": {
    "collapsed": false,
    "pycharm": {
     "name": "#%%\n"
    }
   }
  },
  {
   "cell_type": "code",
   "execution_count": 82,
   "outputs": [],
   "source": [
    "text, label = read_gzip()\n",
    "test_text = text[1500:1580]; test_label = label[1500:1580]\n",
    "train_text = text[0:1000]; train_label = label[0:1000]"
   ],
   "metadata": {
    "collapsed": false,
    "pycharm": {
     "name": "#%%\n"
    }
   }
  },
  {
   "cell_type": "code",
   "execution_count": 83,
   "outputs": [],
   "source": [
    "def calculate_similarity(a, b):\n",
    "    return np.dot(a, b) / (np.linalg.norm(a) * np.linalg.norm(b))"
   ],
   "metadata": {
    "collapsed": false,
    "pycharm": {
     "name": "#%%\n"
    }
   }
  },
  {
   "cell_type": "code",
   "execution_count": 84,
   "outputs": [],
   "source": [
    "def classify(train_text, train_label, test_text, test_label):\n",
    "    examples = []\n",
    "    for i in range(len(train_text)):\n",
    "        examples.append(Example(train_text[i], str(train_label[i])))\n",
    "    inputs = test_text\n",
    "\n",
    "    response = co.classify(\n",
    "        model='large',\n",
    "        inputs=inputs,\n",
    "        examples=examples)\n",
    "\n",
    "    accuracy = 0\n",
    "    for i in range(len(response.classifications)):\n",
    "        true_label = test_label[i]\n",
    "        prediction = int(response.classifications[i].prediction)\n",
    "        confidence = response.classifications[i].confidence\n",
    "        inputs = response.classifications[i].input\n",
    "        if true_label != prediction:\n",
    "            print(f'Input = {inputs}, \\n Prediction = {prediction}, Confidence = {confidence}, Label = {true_label} \\n')\n",
    "        else:\n",
    "            accuracy += 1\n",
    "    print(accuracy/len(test_label))"
   ],
   "metadata": {
    "collapsed": false,
    "pycharm": {
     "name": "#%%\n"
    }
   }
  },
  {
   "cell_type": "code",
   "execution_count": 85,
   "outputs": [
    {
     "name": "stdout",
     "output_type": "stream",
     "text": [
      "Input = i hope you can feel the presence of loved ones right by your side cheering you on and wanting the best for you cos youre not on your own you never are d, \n",
      " Prediction = 1, Confidence = 0.9816955, Label = 2 \n",
      "\n",
      "Input = i already feel it is for the bursts and hesitations of last year to mellow into engaged and rhythmic hops forward like his, \n",
      " Prediction = 4, Confidence = 0.91712064, Label = 1 \n",
      "\n",
      "Input = i was having a horrible day and decided i would only feel better if i didnt have red hair anymore so i immedietly went to wal mart and found a box of hair color with the description soft dark brown, \n",
      " Prediction = 0, Confidence = 0.94368136, Label = 1 \n",
      "\n",
      "Input = i really like it a lot and think its a great fit for me and i love talking to the patients and trying to help them feel less nervous or at least that someone cares about them for a few minutes, \n",
      " Prediction = 1, Confidence = 0.99055606, Label = 4 \n",
      "\n",
      "Input = i was feeling pretty impressed with myself, \n",
      " Prediction = 1, Confidence = 0.99999565, Label = 5 \n",
      "\n",
      "Input = i do feel jaded very often, \n",
      " Prediction = 3, Confidence = 0.96979445, Label = 0 \n",
      "\n",
      "Input = i feel like any time anyone gets into the ring with him they are so intimidated by his arms and legs they dont even really try, \n",
      " Prediction = 0, Confidence = 0.8287962, Label = 4 \n",
      "\n",
      "Input = i feel hateful of myself for being alone, \n",
      " Prediction = 0, Confidence = 0.8399797, Label = 3 \n",
      "\n",
      "Input = i feel highly burdened and incapacitated by my stupid flaring legs, \n",
      " Prediction = 1, Confidence = 0.7112818, Label = 0 \n",
      "\n",
      "Input = i would watch him and feel frustrated he didn t realize that fifteen feet away was the ocean the freaking wave crashing covering the majority of the earth ocean, \n",
      " Prediction = 0, Confidence = 0.5954956, Label = 3 \n",
      "\n",
      "Input = i find them downright amusing but other times i feel slugged in that vulnerable spot knowing that i ll never have a daughter, \n",
      " Prediction = 0, Confidence = 0.54200935, Label = 4 \n",
      "\n",
      "Input = i feel there is really no point in me loving him after getting to know his true color, \n",
      " Prediction = 0, Confidence = 0.53079414, Label = 2 \n",
      "\n",
      "Input = i can wear anything and not feel bad, \n",
      " Prediction = 1, Confidence = 0.97176385, Label = 0 \n",
      "\n",
      "Input = i definitely feel like hot stuff strutting down the road in it a href http, \n",
      " Prediction = 1, Confidence = 0.99877954, Label = 2 \n",
      "\n",
      "Input = i feel some control over caring for the little ones finances future decisions family tensions tough friendships you name it, \n",
      " Prediction = 0, Confidence = 0.99238104, Label = 2 \n",
      "\n",
      "Input = i definitely recommend this for anyone who is feeling depressed or anxious, \n",
      " Prediction = 1, Confidence = 0.8914713, Label = 0 \n",
      "\n",
      "Input = i am feeling a little less delicate i will attempt to clean up this hovel, \n",
      " Prediction = 1, Confidence = 0.9899261, Label = 2 \n",
      "\n",
      "Input = when my beloved grandfather died, \n",
      " Prediction = 2, Confidence = 0.99804944, Label = 0 \n",
      "\n",
      "Input = i feel my heart is in your hands your love is all that i demand so give me a chance to show you sweet romance a href http creativecommons, \n",
      " Prediction = 1, Confidence = 0.9960146, Label = 2 \n",
      "\n",
      "Input = im happy to have this in my kitchen but it feels like someone rushed this out and cut corners, \n",
      " Prediction = 0, Confidence = 0.7874374, Label = 3 \n",
      "\n",
      "Input = i do not believe there is any child that deep in the depths of their soul does not feel a longing for their mother, \n",
      " Prediction = 0, Confidence = 0.9298928, Label = 2 \n",
      "\n",
      "Input = i feel doubtful even when i am struggling a bit with my faith even when times seem dark or i feel alone i know that god is with me, \n",
      " Prediction = 1, Confidence = 0.42210296, Label = 4 \n",
      "\n",
      "Input = i feel overwhelmed and humbled but i am alive to keep slugging and i m grateful for the chance, \n",
      " Prediction = 1, Confidence = 0.92492616, Label = 5 \n",
      "\n",
      "Input = i keep feeling that sometimes one just has to fake it till they make it, \n",
      " Prediction = 1, Confidence = 0.95806044, Label = 0 \n",
      "\n",
      "Input = i know someone who needs to feel respected above all else who maybe deep down worries hes not worthy of that respect because hes insecure about where he comes from, \n",
      " Prediction = 0, Confidence = 0.99970573, Label = 1 \n",
      "\n",
      "Input = i feel that there is something valuable about herzog s study particularly as it relates to the idea of art and media influencing society and culture, \n",
      " Prediction = 2, Confidence = 0.86904114, Label = 1 \n",
      "\n",
      "Input = i think i might be lacking in judgment about what matters and what doesnt but why do i feel like this is just going to go away in the most unfortunate regretful way possible, \n",
      " Prediction = 1, Confidence = 0.9830269, Label = 0 \n",
      "\n",
      "Input = i already feel myself becoming more casual in my fandom, \n",
      " Prediction = 2, Confidence = 0.9656354, Label = 1 \n",
      "\n",
      "Input = i kept doing research on bathroom renovations and all that research just resulted in me feeling more confused than ever about to how to go about tackling what to me felt like a mammoth task, \n",
      " Prediction = 0, Confidence = 0.97439986, Label = 4 \n",
      "\n",
      "Input = i an asylum seeker who i don t know how they live in this country without feeling assaulted, \n",
      " Prediction = 0, Confidence = 0.9937859, Label = 4 \n",
      "\n",
      "Input = i sure feel sorry for what happened to your friend diego he was your friend right, \n",
      " Prediction = 3, Confidence = 0.97780955, Label = 0 \n",
      "\n",
      "Input = i write this i still have that vaguely spacy feeling and im not sure ill be an effective human being, \n",
      " Prediction = 5, Confidence = 0.5783492, Label = 1 \n",
      "\n",
      "0.6\n"
     ]
    }
   ],
   "source": [
    "classify(train_text, train_label, test_text, test_label)"
   ],
   "metadata": {
    "collapsed": false,
    "pycharm": {
     "name": "#%%\n"
    }
   }
  }
 ],
 "metadata": {
  "kernelspec": {
   "display_name": "Python 3",
   "language": "python",
   "name": "python3"
  },
  "language_info": {
   "codemirror_mode": {
    "name": "ipython",
    "version": 2
   },
   "file_extension": ".py",
   "mimetype": "text/x-python",
   "name": "python",
   "nbconvert_exporter": "python",
   "pygments_lexer": "ipython2",
   "version": "2.7.6"
  }
 },
 "nbformat": 4,
 "nbformat_minor": 0
}