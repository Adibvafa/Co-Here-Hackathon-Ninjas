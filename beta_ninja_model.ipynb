{
 "cells": [
  {
   "cell_type": "code",
   "execution_count": 224,
   "metadata": {
    "collapsed": true
   },
   "outputs": [],
   "source": [
    "import _csv\n",
    "import math\n",
    "import re\n",
    "import gzip\n",
    "import json\n",
    "import numpy as np\n",
    "import cohere\n",
    "from cohere.classify import Example\n",
    "co = cohere.Client('Odj4ClpHI3fobuB9bErJkfzlszJwQ018Z99gUAyE')\n",
    "KEY = ['sadness', 'joy', 'love', 'anger', 'fear', 'surprise']"
   ]
  },
  {
   "cell_type": "code",
   "execution_count": 225,
   "outputs": [],
   "source": [
    "def print_classifications(response, data=True):\n",
    "    results = {KEY[i]: [] for i in range(len(KEY))}\n",
    "    for i in range(len(response.classifications)):\n",
    "        prediction = int(response.classifications[i].prediction)\n",
    "        confidence = response.classifications[i].confidence\n",
    "        if confidence >= 0.7:\n",
    "            results[KEY[prediction]].append(confidence)\n",
    "        if data:\n",
    "            data = response.classifications[i].input\n",
    "            print(f'Input: {data}')\n",
    "        print(f'Class: {prediction}, Confidence: {confidence} \\n')\n",
    "    return results"
   ],
   "metadata": {
    "collapsed": false,
    "pycharm": {
     "name": "#%%\n"
    }
   }
  },
  {
   "cell_type": "code",
   "execution_count": 226,
   "outputs": [],
   "source": [
    "def feedback(results):\n",
    "    print(results, '\\n')\n",
    "    evaluation = []\n",
    "    for i in range(len(KEY)):\n",
    "        data = np.array(results[KEY[i]])\n",
    "        if len(data) == 0:\n",
    "            data = [0]\n",
    "        average = np.mean(data)\n",
    "        n = len(data)\n",
    "        coefficient = n / (2 + n)\n",
    "        evaluation.append(coefficient * average)\n",
    "    print(evaluation)\n",
    "    return KEY[np.argmax(evaluation)]"
   ],
   "metadata": {
    "collapsed": false,
    "pycharm": {
     "name": "#%%\n"
    }
   }
  },
  {
   "cell_type": "code",
   "execution_count": 227,
   "outputs": [],
   "source": [
    "user_prompt1 = \"\"\"\n",
    "My son claims that hes been having extremely violent thoughts and dreams. Not violent like he's hurting someone, but violent thoughts like horrible things happening to his loved ones. He explained one of his dreams the other day and it was so violent it was sickening. It was far beyond anything in a horror movie, he says he can't help these thoughts they just pop up. Please help!\n",
    "\"\"\".strip()\n",
    "\n",
    "user_prompt2 = \"\"\"\n",
    "I went to the gym last night and saw many people with good fitness. However I am fat and obese. So I couldn't stand being there and came home while cry\n",
    "\"\"\".strip()\n",
    "\n",
    "user_prompt = \"\"\"\n",
    "I did not get any valentine chocolate today which makes me very sad. Man I want a girlfriend quickly.\n",
    "\"\"\".strip()"
   ],
   "metadata": {
    "collapsed": false,
    "pycharm": {
     "name": "#%%\n"
    }
   }
  },
  {
   "cell_type": "code",
   "execution_count": 228,
   "outputs": [],
   "source": [
    "# prompt = f\"\"\"\n",
    "# Break the paragraph into small sentences {user_prompt}\n",
    "# \"\"\"\n",
    "#\n",
    "# summary = co.generate(\n",
    "#     model='command-xlarge-nightly',\n",
    "#     prompt= prompt,\n",
    "#     max_tokens=100,\n",
    "#     temperature=0.9,\n",
    "#     stop_sequences=[\"--\"])\n",
    "# print(summary)"
   ],
   "metadata": {
    "collapsed": false,
    "pycharm": {
     "name": "#%%\n"
    }
   }
  },
  {
   "cell_type": "code",
   "execution_count": 229,
   "outputs": [
    {
     "name": "stdout",
     "output_type": "stream",
     "text": [
      "['I did not get any valentine chocolate today which makes me very sad', ' Man I want a girlfriend quickly']\n",
      "Input: I did not get any valentine chocolate today which makes me very sad\n",
      "Class: 0, Confidence: 0.984986 \n",
      "\n",
      "Input:  Man I want a girlfriend quickly\n",
      "Class: 3, Confidence: 0.6244364 \n",
      "\n",
      "{'sadness': [0.984986], 'joy': [], 'love': [], 'anger': [], 'fear': [], 'surprise': []} \n",
      "\n",
      "[0.32832866666666666, 0.0, 0.0, 0.0, 0.0, 0.0]\n",
      "sadness\n"
     ]
    }
   ],
   "source": [
    "cut_user_prompt = re.split(r'[,.!?-]', user_prompt.replace(' and ', '.'))\n",
    "cut_user_prompt = list(filter(None, cut_user_prompt))\n",
    "print(cut_user_prompt)\n",
    "\n",
    "response = co.classify(\n",
    "  model='0c667180-ef42-4c4d-aee8-e6fa29177e43-ft',\n",
    "  inputs=cut_user_prompt)\n",
    "\n",
    "results = print_classifications(response)\n",
    "print(feedback(results))"
   ],
   "metadata": {
    "collapsed": false,
    "pycharm": {
     "name": "#%%\n"
    }
   }
  }
 ],
 "metadata": {
  "kernelspec": {
   "display_name": "Python 3",
   "language": "python",
   "name": "python3"
  },
  "language_info": {
   "codemirror_mode": {
    "name": "ipython",
    "version": 2
   },
   "file_extension": ".py",
   "mimetype": "text/x-python",
   "name": "python",
   "nbconvert_exporter": "python",
   "pygments_lexer": "ipython2",
   "version": "2.7.6"
  }
 },
 "nbformat": 4,
 "nbformat_minor": 0
}