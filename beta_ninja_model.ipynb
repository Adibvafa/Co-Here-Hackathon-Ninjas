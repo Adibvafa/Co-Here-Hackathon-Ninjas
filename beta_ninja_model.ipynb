{
 "cells": [
  {
   "cell_type": "code",
   "execution_count": 66,
   "metadata": {
    "collapsed": true
   },
   "outputs": [],
   "source": [
    "import _csv\n",
    "import math\n",
    "import re\n",
    "import gzip\n",
    "import json\n",
    "import numpy as np\n",
    "import cohere\n",
    "from cohere.classify import Example\n",
    "co = cohere.Client('Odj4ClpHI3fobuB9bErJkfzlszJwQ018Z99gUAyE')"
   ]
  },
  {
   "cell_type": "code",
   "execution_count": 67,
   "outputs": [],
   "source": [
    "def print_classifications(response, data=True):\n",
    "    for i in range(len(response.classifications)):\n",
    "        prediction = response.classifications[i].prediction\n",
    "        confidence = response.classifications[i].confidence\n",
    "        if data:\n",
    "            data = response.classifications[i].input\n",
    "            print(f'Input: {data}')\n",
    "        print(f'Class: {prediction}, Confidence: {confidence} \\n')"
   ],
   "metadata": {
    "collapsed": false,
    "pycharm": {
     "name": "#%%\n"
    }
   }
  },
  {
   "cell_type": "code",
   "execution_count": 68,
   "outputs": [],
   "source": [
    "user_prompt1 = \"\"\"\n",
    "My son claims that hes been having extremely violent thoughts and dreams. Not violent like he's hurting someone, but violent thoughts like horrible things happening to his loved ones. He explained one of his dreams the other day and it was so violent it was sickening. It was far beyond anything in a horror movie, he says he can't help these thoughts they just pop up. Please help!\n",
    "\"\"\"\n",
    "user_prompt = \"\"\"\n",
    "I went to the gym last night and saw many people with good fitness. However I am fat and obese. So I couldn't stand being there and came home while crying\n",
    "\"\"\""
   ],
   "metadata": {
    "collapsed": false,
    "pycharm": {
     "name": "#%%\n"
    }
   }
  },
  {
   "cell_type": "code",
   "execution_count": 72,
   "outputs": [
    {
     "name": "stdout",
     "output_type": "stream",
     "text": [
      "[cohere.Generation {\n",
      "\tid: d114adfe-ebe6-49ee-ad04-3a3d0f6e315f\n",
      "\ttext: I went to the gym last night and saw many people with good fitness. But I am fat and obese, so I couldn't stand being there and came home while crying.\n",
      "\tlikelihood: None\n",
      "\ttoken_likelihoods: None\n",
      "}]\n"
     ]
    }
   ],
   "source": [
    "prompt = f\"\"\"\n",
    "Break the paragraph into small sentences {user_prompt}\n",
    "\"\"\"\n",
    "\n",
    "summary = co.generate(\n",
    "    model='command-xlarge-nightly',\n",
    "    prompt= prompt,\n",
    "    max_tokens=100,\n",
    "    temperature=0.9,\n",
    "    stop_sequences=[\"--\"])\n",
    "print(summary)"
   ],
   "metadata": {
    "collapsed": false,
    "pycharm": {
     "name": "#%%\n"
    }
   }
  },
  {
   "cell_type": "code",
   "execution_count": 70,
   "outputs": [
    {
     "name": "stdout",
     "output_type": "stream",
     "text": [
      "['\\nI went to the gym last night and saw many people with good fitness', ' However I am fat and obese', \" So I couldn't stand being there and came home while crying\\n\"]\n",
      "Input: \n",
      "I went to the gym last night and saw many people with good fitness\n",
      "Class: 1, Confidence: 0.7628686 \n",
      "\n",
      "Input:  However I am fat and obese\n",
      "Class: 3, Confidence: 0.735269 \n",
      "\n",
      "Input:  So I couldn't stand being there and came home while crying\n",
      "\n",
      "Class: 0, Confidence: 0.5047846 \n",
      "\n"
     ]
    }
   ],
   "source": [
    "cut_user_prompt = re.split(r'[,.!?-]', user_prompt)\n",
    "print(cut_user_prompt)\n",
    "\n",
    "response = co.classify(\n",
    "  model='0c667180-ef42-4c4d-aee8-e6fa29177e43-ft',\n",
    "  inputs=cut_user_prompt)\n",
    "\n",
    "print_classifications(response)"
   ],
   "metadata": {
    "collapsed": false,
    "pycharm": {
     "name": "#%%\n"
    }
   }
  },
  {
   "cell_type": "code",
   "execution_count": 70,
   "outputs": [],
   "source": [],
   "metadata": {
    "collapsed": false,
    "pycharm": {
     "name": "#%%\n"
    }
   }
  }
 ],
 "metadata": {
  "kernelspec": {
   "display_name": "Python 3",
   "language": "python",
   "name": "python3"
  },
  "language_info": {
   "codemirror_mode": {
    "name": "ipython",
    "version": 2
   },
   "file_extension": ".py",
   "mimetype": "text/x-python",
   "name": "python",
   "nbconvert_exporter": "python",
   "pygments_lexer": "ipython2",
   "version": "2.7.6"
  }
 },
 "nbformat": 4,
 "nbformat_minor": 0
}