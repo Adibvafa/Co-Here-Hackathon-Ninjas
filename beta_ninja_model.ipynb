{
 "cells": [
  {
   "cell_type": "code",
   "execution_count": 285,
   "metadata": {
    "collapsed": true
   },
   "outputs": [],
   "source": [
    "import _csv\n",
    "import math\n",
    "import re\n",
    "import gzip\n",
    "import json\n",
    "import numpy as np\n",
    "import cohere\n",
    "from cohere.classify import Example\n",
    "co = cohere.Client('Odj4ClpHI3fobuB9bErJkfzlszJwQ018Z99gUAyE')\n",
    "KEY = ['sadness', 'joy', 'love', 'anger', 'fear', 'surprise']"
   ]
  },
  {
   "cell_type": "code",
   "execution_count": 286,
   "outputs": [],
   "source": [
    "def print_classifications(response, data=True):\n",
    "    results = {KEY[i]: [] for i in range(len(KEY))}\n",
    "    for i in range(len(response.classifications)):\n",
    "        prediction = int(response.classifications[i].prediction)\n",
    "        confidence = response.classifications[i].confidence\n",
    "        if confidence >= 0.7:\n",
    "            results[KEY[prediction]].append(confidence)\n",
    "        if data:\n",
    "            data = response.classifications[i].input\n",
    "            print(f'Input: {data}')\n",
    "        print(f'Class: {prediction}, Confidence: {confidence} \\n')\n",
    "    return results"
   ],
   "metadata": {
    "collapsed": false,
    "pycharm": {
     "name": "#%%\n"
    }
   }
  },
  {
   "cell_type": "code",
   "execution_count": 287,
   "outputs": [],
   "source": [
    "def feedback(results):\n",
    "    print(results, '\\n')\n",
    "    evaluation = []\n",
    "    for i in range(len(KEY)):\n",
    "        data = np.array(results[KEY[i]])\n",
    "        if len(data) == 0:\n",
    "            data = [0]\n",
    "        average = np.mean(data)\n",
    "        n = len(data)\n",
    "        coefficient = n / (2 + n)\n",
    "        evaluation.append(coefficient * average)\n",
    "    print(evaluation)\n",
    "    return KEY[np.argmax(evaluation)]"
   ],
   "metadata": {
    "collapsed": false,
    "pycharm": {
     "name": "#%%\n"
    }
   }
  },
  {
   "cell_type": "code",
   "execution_count": 288,
   "outputs": [],
   "source": [
    "user_prompt1 = \"\"\"\n",
    "My son claims that hes been having extremely violent thoughts and dreams. Not violent like he's hurting someone, but violent thoughts like horrible things happening to his loved ones. He explained one of his dreams the other day and it was so violent it was sickening. It was far beyond anything in a horror movie, he says he can't help these thoughts they just pop up. Please help!\n",
    "\"\"\".strip()\n",
    "\n",
    "user_prompt2 = \"\"\"\n",
    "I went to the gym last night and saw many people with good fitness. However I am fat and obese. So I couldn't stand being there and came home while cry\n",
    "\"\"\".strip()\n",
    "\n",
    "user_prompt3 = \"\"\"\n",
    "I did not get any valentine chocolate today which makes me very sad. Man I want a girlfriend quickly.\n",
    "\"\"\".strip()\n",
    "\n",
    "user_prompt4 = \"\"\"\n",
    "I came home and suddenly, boom!, happy birth day. My parents really surprised day. What a lovely day it was!\n",
    "\"\"\".strip()\n",
    "\n",
    "user_prompt5 = \"\"\"\n",
    "It's important to note that IMDb ratings are not an absolute measure of a movie's quality, but rather a reflection of the collective opinion of IMDb users who have rated the movie.\n",
    "\"\"\".strip()\n",
    "\n",
    "user_prompt = \"\"\"\n",
    "Why the hell did you shoot at that stranger. You killed him bastard. Now you go to jail.\n",
    "\"\"\".strip()"
   ],
   "metadata": {
    "collapsed": false,
    "pycharm": {
     "name": "#%%\n"
    }
   }
  },
  {
   "cell_type": "code",
   "execution_count": 289,
   "outputs": [],
   "source": [
    "# prompt = f\"\"\"\n",
    "# Break the paragraph into small sentences {user_prompt}\n",
    "# \"\"\"\n",
    "#\n",
    "# summary = co.generate(\n",
    "#     model='command-xlarge-nightly',\n",
    "#     prompt= prompt,\n",
    "#     max_tokens=100,\n",
    "#     temperature=0.9,\n",
    "#     stop_sequences=[\"--\"])\n",
    "# print(summary)"
   ],
   "metadata": {
    "collapsed": false,
    "pycharm": {
     "name": "#%%\n"
    }
   }
  },
  {
   "cell_type": "code",
   "execution_count": 290,
   "outputs": [
    {
     "name": "stdout",
     "output_type": "stream",
     "text": [
      "['Why the hell did you shoot at that stranger', ' You killed him bastard', ' Now you go to jail']\n",
      "Input: Why the hell did you shoot at that stranger\n",
      "Class: 3, Confidence: 0.85519105 \n",
      "\n",
      "Input:  You killed him bastard\n",
      "Class: 3, Confidence: 0.50845504 \n",
      "\n",
      "Input:  Now you go to jail\n",
      "Class: 4, Confidence: 0.58861053 \n",
      "\n",
      "{'sadness': [], 'joy': [], 'love': [], 'anger': [0.85519105], 'fear': [], 'surprise': []} \n",
      "\n",
      "[0.0, 0.0, 0.0, 0.2850636833333333, 0.0, 0.0]\n",
      "anger\n"
     ]
    }
   ],
   "source": [
    "cut_user_prompt = re.split(r'[,.!?-]', user_prompt.replace(' and ', '.'))\n",
    "cut_user_prompt = list(filter(None, cut_user_prompt))\n",
    "print(cut_user_prompt)\n",
    "\n",
    "response = co.classify(\n",
    "  model='0c667180-ef42-4c4d-aee8-e6fa29177e43-ft',\n",
    "  inputs=cut_user_prompt)\n",
    "\n",
    "results = print_classifications(response)\n",
    "print(feedback(results))"
   ],
   "metadata": {
    "collapsed": false,
    "pycharm": {
     "name": "#%%\n"
    }
   }
  }
 ],
 "metadata": {
  "kernelspec": {
   "display_name": "Python 3",
   "language": "python",
   "name": "python3"
  },
  "language_info": {
   "codemirror_mode": {
    "name": "ipython",
    "version": 2
   },
   "file_extension": ".py",
   "mimetype": "text/x-python",
   "name": "python",
   "nbconvert_exporter": "python",
   "pygments_lexer": "ipython2",
   "version": "2.7.6"
  }
 },
 "nbformat": 4,
 "nbformat_minor": 0
}