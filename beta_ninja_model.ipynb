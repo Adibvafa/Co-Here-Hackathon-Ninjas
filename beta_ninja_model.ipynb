{
 "cells": [
  {
   "cell_type": "code",
   "execution_count": 155,
   "metadata": {
    "collapsed": true
   },
   "outputs": [
    {
     "name": "stderr",
     "output_type": "stream",
     "text": [
      "[nltk_data] Downloading package punkt to\n",
      "[nltk_data]     C:\\Users\\Adibvafa\\AppData\\Roaming\\nltk_data...\n",
      "[nltk_data]   Package punkt is already up-to-date!\n"
     ]
    }
   ],
   "source": [
    "import _csv\n",
    "import math\n",
    "import re\n",
    "import gzip\n",
    "import json\n",
    "import numpy as np\n",
    "import cohere\n",
    "import nltk\n",
    "nltk.download('punkt')\n",
    "\n",
    "from cohere.classify import Example\n",
    "co = cohere.Client('Odj4ClpHI3fobuB9bErJkfzlszJwQ018Z99gUAyE')\n",
    "KEY = ['sadness', 'joy', 'love', 'anger', 'fear', 'surprise']"
   ]
  },
  {
   "cell_type": "code",
   "execution_count": 156,
   "outputs": [],
   "source": [
    "user_prompt1 = \"\"\"\n",
    "My son claims that hes been having extremely violent thoughts and dreams. Not violent like he's hurting someone, but violent thoughts like horrible things happening to his loved ones. He explained one of his dreams the other day and it was so violent it was sickening. It was far beyond anything in a horror movie, he says he can't help these thoughts they just pop up. Please help!\n",
    "\"\"\".strip()\n",
    "\n",
    "user_prompt2 = \"\"\"\n",
    "I went to the gym last night and saw many people with good fitness. However I am fat and obese. So I couldn't stand being there and came home while cry\n",
    "\"\"\".strip()\n",
    "\n",
    "user_prompt3 = \"\"\"\n",
    "I did not get any valentine chocolate today which makes me very sad. Man I want a girlfriend quickly.\n",
    "\"\"\".strip()\n",
    "\n",
    "user_prompt4 = \"\"\"\n",
    "I came home and suddenly, boom!, happy birth day. My parents really surprised day. What a lovely day it was!\n",
    "\"\"\".strip()\n",
    "\n",
    "user_prompt5 = \"\"\"\n",
    "It's important to note that IMDb ratings are not an absolute measure of a movie's quality, but rather a reflection of the collective opinion of IMDb users who have rated the movie.\n",
    "\"\"\".strip()\n",
    "\n",
    "user_prompt6 = \"\"\"\n",
    "The man felt a sense of joy and fulfillment as he accomplished his lifelong goal, but at the same time, he felt a tinge of sadness that the journey was over and that he would have to start a new chapter in his life.\"\"\".strip()"
   ],
   "metadata": {
    "collapsed": false,
    "pycharm": {
     "name": "#%%\n"
    }
   }
  },
  {
   "cell_type": "code",
   "execution_count": 157,
   "outputs": [],
   "source": [
    "def classify_chunks(response, data=True, if_print=False):\n",
    "    results = {KEY[i]: [] for i in range(len(KEY))}\n",
    "    for i in range(len(response.classifications)):\n",
    "        prediction = int(response.classifications[i].prediction)\n",
    "        confidence = response.classifications[i].confidence\n",
    "        if confidence >= 0.5:\n",
    "            results[KEY[prediction]].append(confidence)\n",
    "        if data:\n",
    "            data = response.classifications[i].input\n",
    "            if if_print:\n",
    "                print(f'Input: {data}')\n",
    "        if if_print:\n",
    "            print(f'Class: {prediction}, Confidence: {confidence} \\n')\n",
    "    return results"
   ],
   "metadata": {
    "collapsed": false,
    "pycharm": {
     "name": "#%%\n"
    }
   }
  },
  {
   "cell_type": "code",
   "execution_count": 158,
   "outputs": [],
   "source": [
    "def feedback(results, if_print=False):\n",
    "    if if_print:\n",
    "        print(results, '\\n')\n",
    "    evaluation = []\n",
    "    for i in range(len(KEY)):\n",
    "        data = np.array(results[KEY[i]])\n",
    "        if len(data) == 0:\n",
    "            data = [0]\n",
    "        average = np.mean(data)\n",
    "        n = len(data)\n",
    "        coefficient = n / (2 + n)\n",
    "        evaluation.append(coefficient * average * max(data))\n",
    "    if if_print:\n",
    "        print(evaluation)\n",
    "    return KEY[np.argmax(evaluation)]"
   ],
   "metadata": {
    "collapsed": false,
    "pycharm": {
     "name": "#%%\n"
    }
   }
  },
  {
   "cell_type": "code",
   "execution_count": 159,
   "outputs": [],
   "source": [
    "def split_input(user_input):\n",
    "    sentences = nltk.sent_tokenize(user_input)\n",
    "    return sentences\n",
    "\n",
    "def split_input_self(user_input):\n",
    "    Replace = [' and ', ' that ', ' thus ', ' then ', ' however ', ' but ']\n",
    "    for i in range(len(Replace)):\n",
    "        user_input = user_input.replace(Replace[i], '.')\n",
    "    cut_user_prompt = re.split(r'[,.!?-]', user_prompt)\n",
    "    cut_user_prompt = list(filter(None, cut_user_prompt))\n",
    "    return cut_user_prompt"
   ],
   "metadata": {
    "collapsed": false,
    "pycharm": {
     "name": "#%%\n"
    }
   }
  },
  {
   "cell_type": "code",
   "execution_count": 160,
   "outputs": [],
   "source": [
    "def main(user_prompt):\n",
    "    user_chunks = split_input_self(user_prompt)\n",
    "\n",
    "    response = co.classify(\n",
    "      model='0c667180-ef42-4c4d-aee8-e6fa29177e43-ft',\n",
    "      inputs=user_chunks)\n",
    "\n",
    "    results = classify_chunks(response)\n",
    "    emotion = feedback(results)\n",
    "    return emotion"
   ],
   "metadata": {
    "collapsed": false,
    "pycharm": {
     "name": "#%%\n"
    }
   }
  },
  {
   "cell_type": "code",
   "execution_count": 161,
   "outputs": [
    {
     "data": {
      "text/plain": "'anger'"
     },
     "execution_count": 161,
     "metadata": {},
     "output_type": "execute_result"
    }
   ],
   "source": [
    "main(user_prompt1)"
   ],
   "metadata": {
    "collapsed": false,
    "pycharm": {
     "name": "#%%\n"
    }
   }
  }
 ],
 "metadata": {
  "kernelspec": {
   "display_name": "Python 3",
   "language": "python",
   "name": "python3"
  },
  "language_info": {
   "codemirror_mode": {
    "name": "ipython",
    "version": 2
   },
   "file_extension": ".py",
   "mimetype": "text/x-python",
   "name": "python",
   "nbconvert_exporter": "python",
   "pygments_lexer": "ipython2",
   "version": "2.7.6"
  }
 },
 "nbformat": 4,
 "nbformat_minor": 0
}